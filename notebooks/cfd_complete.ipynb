{
 "cells": [
  {
   "cell_type": "markdown",
   "metadata": {},
   "source": [
    "# CUnumeric-based Navier-Stokes solver\n",
    "\n",
    "In this hands-on demo, we will implement a simple Navier Stokes\n",
    "finite-difference solver based on CUnumeric. Since CUnumeric is a drop-in\n",
    "replacement for Numpy, this is (supposed to be) very easy! We will also couple\n",
    "our CFD simulations with some simple Machine Learning tasks (e.g. PCA for data\n",
    "compression). We will also discuss the performance of our application using\n",
    "tools provided by Legate.\n",
    "\n",
    "1. [Introduction](#introduction) (What are Cunumeric and Legate? + useful resources)\n",
    "2. [Getting started](#getting-started) (How to install and run Cunumeric)\n",
    "3. [A simple Navier-Stokes solver](#a-simple-navier-stokes-solver)\n",
    "4. [Performance](#performance-evaluation) (evaluation, profiling)\n",
    "5. [A better implementation](#a-better-implementation) (?)\n",
    "6. [Add some Machine Learning](#add-some-machine-learning)\n",
    "7. [Use of heterogeneous resources](#use-heterogeneous-resources) (how to dispatch computations to GPUs/CPUs)\n",
    "\n",
    "For any question, feel free to contact me at [cl2292@stanford.edu](mailto:cl2292@stanford.edu), or directly\n",
    "reach out to the [Legate](https://github.com/nv-legate/legate.core) or\n",
    "[CUnumeric](https://github.com/nv-legate/cunumeric) developers. If you need\n",
    "help (e.g. API coverage, best practice, etc...), the most useful resource is the [Cunumeric documentation](https://nv-legate.github.io/cunumeric/23.11/)."
   ]
  },
  {
   "cell_type": "markdown",
   "metadata": {},
   "source": [
    "## Introduction\n",
    "\n",
    "See [slides](../slides/Cunumeric_slides_demo.pptx)."
   ]
  },
  {
   "cell_type": "markdown",
   "metadata": {},
   "source": [
    "## Getting started\n",
    "\n",
    "Note: Since CUnumeric is a drop-in replacement for Numpy, you can install first\n",
    "write your application in vanilla Numpy, and then install CUnumeric later.\n",
    "\n",
    "First case (the easy one), if you have a linux-64 system, and have either an\n",
    "Nvidia GPU Volta or later (or if you do not intend to use GPU support), then\n",
    "Cunumeric and Legate are available as a Conda package:\n",
    "```console\n",
    "conda install -c nvidia -c conda-forge -c legate cunumeric\n",
    "```\n",
    "\n",
    "Otherwise, you need to first build Legate from source, based on [this\n",
    "guide](https://github.com/nv-legate/legate.core/blob/branch-24.01/BUILD.md). It\n",
    "is strongly advised to build Legate in a conda environment.\n",
    "```console\n",
    "git clone https://github.com/nv-legate/legate.core.git\n",
    "```\n",
    "Legate provides a script to help you set-up a conda environment (replace the\n",
    "python version and OS with appropriate values, run the script with `--help` to\n",
    "see all available options):\n",
    "```console\n",
    "./scripts/generate-conda-envs.py --python 3.10 --os osx\n",
    "```\n",
    "After installing the dependencies, Legate can be built with:\n",
    "```console\n",
    "./install.py --max-dim 4 --openmp --clean\n",
    "```\n",
    "\n",
    "After completing the installation of Legate, you can clone and build Cunumeric:\n",
    "\n",
    "```console\n",
    "git clone https://github.com/nv-legate/cunumeric.git\n",
    "```\n",
    "\n",
    "then:\n",
    "\n",
    "```console\n",
    "./install.py --max-dim 4 --openmp --clean\n",
    "```"
   ]
  },
  {
   "cell_type": "markdown",
   "metadata": {},
   "source": [
    "## A simple Navier-Stokes solver\n",
    "\n",
    "We will implement a solver that solver integrates the three-dimensional, compressible, single-component Navier-Stokes equations\n",
    "for an ideal gas. These equations and numerical integration are detailed below.\n"
   ]
  },
  {
   "cell_type": "markdown",
   "metadata": {},
   "source": [
    "![Navier Stokes equations](../images/NS_equation_1.png)\n"
   ]
  },
  {
   "cell_type": "code",
   "execution_count": 1,
   "metadata": {},
   "outputs": [
    {
     "name": "stdout",
     "output_type": "stream",
     "text": [
      "[0 - 100c88580]    0.000503 {4}{threads}: reservation ('CPU proc 1d00000000000003') cannot be satisfied\n"
     ]
    }
   ],
   "source": [
    "# Import Cunumeric instead of numpy\n",
    "import cunumeric as num\n",
    "\n",
    "# Define some constants\n",
    "constants = {\n",
    "    \"grid\": (128,) * 3,\n",
    "    \"rho_0\": 1.0,\n",
    "    \"p0\": 1e5,\n",
    "    \"mu\": 0.0,\n",
    "}\n",
    "\n",
    "# Create variables\n",
    "rho = num.full(constants[\"grid\"], constants[\"rho_0\"])\n",
    "rhou = num.zeros(constants[\"grid\"])\n",
    "rhov = num.zeros(constants[\"grid\"])\n",
    "rhow = num.zeros(constants[\"grid\"])\n",
    "rhoE = num.zeros(constants[\"grid\"])"
   ]
  },
  {
   "cell_type": "markdown",
   "metadata": {},
   "source": [
    "### Convection fluxes\n",
    "\n",
    "First let's implement a function that computes the convection fluxes for the 5\n",
    "flow variables."
   ]
  },
  {
   "cell_type": "markdown",
   "metadata": {},
   "source": [
    "![Convection fluxes](../images/Convection_fluxes.png)"
   ]
  },
  {
   "cell_type": "code",
   "execution_count": 1,
   "metadata": {},
   "outputs": [
    {
     "name": "stdout",
     "output_type": "stream",
     "text": [
      "[0 - 1007ec580]    0.000067 {4}{threads}: reservation ('CPU proc 1d00000000000003') cannot be satisfied\n"
     ]
    }
   ],
   "source": [
    "def convection(rho, rhou, rhov, rhow, rhoE):\n",
    "    "
   ]
  },
  {
   "cell_type": "markdown",
   "metadata": {},
   "source": [
    "## Performance evaluation"
   ]
  },
  {
   "cell_type": "markdown",
   "metadata": {},
   "source": [
    "## A better implementation"
   ]
  },
  {
   "cell_type": "markdown",
   "metadata": {},
   "source": [
    "## Add some Machine Learning"
   ]
  },
  {
   "cell_type": "markdown",
   "metadata": {},
   "source": [
    "## Use heterogeneous resources"
   ]
  }
 ],
 "metadata": {
  "kernelspec": {
   "display_name": "legate",
   "language": "python",
   "name": "python3"
  },
  "language_info": {
   "codemirror_mode": {
    "name": "ipython",
    "version": 3
   },
   "file_extension": ".py",
   "mimetype": "text/x-python",
   "name": "python",
   "nbconvert_exporter": "python",
   "pygments_lexer": "ipython3",
   "version": "3.10.13"
  }
 },
 "nbformat": 4,
 "nbformat_minor": 2
}
