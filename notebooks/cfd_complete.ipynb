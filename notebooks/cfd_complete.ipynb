{
 "cells": [
  {
   "cell_type": "markdown",
   "metadata": {},
   "source": [
    "# CUnumeric-based Navier-Stokes solver\n",
    "\n",
    "In this hands-on demo, we will implement a simple Navier Stokes\n",
    "finite-difference solver based on CUnumeric. Since CUnumeric is a drop-in\n",
    "replacement for Numpy, this is (supposed to be) very easy! We will also couple\n",
    "our CFD simulations with some simple Machine Learning tasks (e.g. PCA for data\n",
    "compression). We will also discuss the performance of our application using\n",
    "tools provided by Legate.\n",
    "\n",
    "1. [Introduction](#introduction) (What are Cunumeric and Legate? + useful resources)\n",
    "2. [Getting started](#getting-started) (How to install and run Cunumeric)\n",
    "3. [A simple Navier-Stokes solver](#a-simple-navier-stokes-solver)\n",
    "4. [Performance](#performance-evaluation) (evaluation, profiling)\n",
    "5. [A better implementation](#a-better-implementation) (?)\n",
    "6. [Add some Machine Learning](#add-some-machine-learning)\n",
    "7. [Use of heterogeneous resources](#use-heterogeneous-resources) (how to dispatch computations to GPUs/CPUs)\n",
    "\n",
    "For any question, feel free to contact me at [cl2292@stanford.edu](mailto:cl2292@stanford.edu), or directly\n",
    "reach out to the [Legate](https://github.com/nv-legate/legate.core) or\n",
    "[CUnumeric](https://github.com/nv-legate/cunumeric) developers. If you need\n",
    "help (e.g. API coverage, best practice, etc...), the most useful resource is the [Cunumeric documentation](https://nv-legate.github.io/cunumeric/23.11/)."
   ]
  },
  {
   "cell_type": "markdown",
   "metadata": {},
   "source": [
    "## Introduction\n",
    "\n",
    "See [slides](../slides/Cunumeric_slides_demo.pptx)."
   ]
  },
  {
   "cell_type": "markdown",
   "metadata": {},
   "source": [
    "## Getting started\n",
    "\n",
    "Note: Since CUnumeric is a drop-in replacement for Numpy, you can first\n",
    "write your application in vanilla Numpy, and then install CUnumeric later.\n",
    "\n",
    "First case (the easy one), if you have a linux-64 system, and have either an\n",
    "Nvidia GPU Volta or later (or if you do not intend to use GPU support), then\n",
    "Cunumeric and Legate are available as a Conda package:\n",
    "```console\n",
    "conda install -c nvidia -c conda-forge -c legate cunumeric\n",
    "```\n",
    "\n",
    "Otherwise, you need to first build Legate from source, based on [this\n",
    "guide](https://github.com/nv-legate/legate.core/blob/branch-24.01/BUILD.md). It\n",
    "is strongly advised to build Legate in a conda environment.\n",
    "```console\n",
    "git clone https://github.com/nv-legate/legate.core.git\n",
    "```\n",
    "Legate provides a script to help you set-up a conda environment (replace the\n",
    "python version and OS with appropriate values, run the script with `--help` to\n",
    "see all available options):\n",
    "```console\n",
    "./scripts/generate-conda-envs.py --python 3.10 --os osx\n",
    "```\n",
    "After installing the dependencies, Legate can be built with:\n",
    "```console\n",
    "./install.py --max-dim 4 --openmp --clean\n",
    "```\n",
    "\n",
    "After completing the installation of Legate, you can clone and build Cunumeric:\n",
    "\n",
    "```console\n",
    "git clone https://github.com/nv-legate/cunumeric.git\n",
    "```\n",
    "\n",
    "then:\n",
    "\n",
    "```console\n",
    "./install.py --max-dim 4 --openmp --clean\n",
    "```\n",
    "\n",
    "__Running Legate__\n",
    "\n",
    "There are several ways to run Legate:\n",
    "1. In a Jupyter notebook (limited to single node execution)\n",
    "2. Using the standard Python interpreter (limited to single node execution)\n",
    "3. Using the `legate` driver (for multi-node execution and more fine-grained control)\n",
    "\n",
    "This noetbook can be executed locally, or on a supercomputer, following [these instructions](https://nv-legate.github.io/legate.core/README.html#running-with-jupyter-notebook)."
   ]
  },
  {
   "cell_type": "markdown",
   "metadata": {},
   "source": [
    "## A simple Navier-Stokes solver\n",
    "\n",
    "We will implement a solver that solver integrates the three-dimensional, compressible, single-component Navier-Stokes equations\n",
    "for an ideal gas. These equations and numerical integration are detailed below.\n",
    "\n",
    "<img src=\"../images/NS_equation.png\" width=\"700\">\n"
   ]
  },
  {
   "cell_type": "code",
   "execution_count": 3,
   "metadata": {},
   "outputs": [],
   "source": [
    "# Import Cunumeric instead of numpy\n",
    "import cunumeric as num\n",
    "from math import pi\n",
    "\n",
    "# Define some constants\n",
    "constants = {\n",
    "    \"grid\": (64,) * 3,\n",
    "    \"grid_ghost\": (64 + 2,) * 3,\n",
    "    \"length\": 1.0,\n",
    "    \"rho_0\": 1.0,\n",
    "    \"p_0\": 1e5,\n",
    "    \"T_0\": 300.0,\n",
    "    \"gamma\": 1.4,\n",
    "    \"r_gas\": 8.3144598 / 32e-3,\n",
    "    \"mu\": 2.0e-5,\n",
    "    \"lambda\": 0.026,\n",
    "    \"forcing_amplitude\": 0.5,\n",
    "    \"dt\": 1e-5\n",
    "}"
   ]
  },
  {
   "cell_type": "markdown",
   "metadata": {},
   "source": [
    "### Convection fluxes\n",
    "\n",
    "First let's implement a function that computes the convection fluxes for the 5\n",
    "flow variables.\n",
    "\n",
    "<img src=\"../images/Convection_fluxes.png\" width=\"700\">"
   ]
  },
  {
   "cell_type": "code",
   "execution_count": 11,
   "metadata": {},
   "outputs": [],
   "source": [
    "def cycle_dir(dir, slices):\n",
    "    if dir == 0:\n",
    "        return slices\n",
    "    elif dir == 1:\n",
    "        return (slices[1], slices[2], slices[0])\n",
    "    elif dir == 2:\n",
    "        return (slices[2], slices[0], slices[1])\n",
    "\n",
    "\n",
    "def center_to_face(dir, x):\n",
    "    idx_m = cycle_dir(dir, (slice(0, -1), slice(None), slice(None)))\n",
    "    idx_p = cycle_dir(dir, (slice(1, None), slice(None), slice(None)))\n",
    "    return 0.5 * (x[(..., *idx_m)] + x[(..., *idx_p)])\n",
    "\n",
    "\n",
    "def plus(dir, delta=1):\n",
    "    return cycle_dir(dir, (slice(delta, None), slice(None), slice(None)))\n",
    "\n",
    "\n",
    "def minus(dir, delta=1):\n",
    "    return cycle_dir(dir, (slice(None, -delta), slice(None), slice(None)))\n",
    "\n",
    "\n",
    "def get_interior(exclude=None):\n",
    "    if isinstance(exclude, int) or exclude is None:\n",
    "        exclude = (exclude,)\n",
    "    slices = ()\n",
    "    for i in range(3):\n",
    "        if i not in exclude:\n",
    "            slices += (slice(1, -1),)\n",
    "        else:\n",
    "            slices += (slice(None),)\n",
    "    return slices\n",
    "\n",
    "\n",
    "def convection(rho, rhou, rhoE):\n",
    "    for dir in range(3):\n",
    "        interior = get_interior(exclude=dir)\n",
    "        inv_dx = 1.0 / (constants[\"length\"] / constants[\"grid\"][dir])\n",
    "        F_conv = num.zeros(\n",
    "            (5,) + tuple(d-1 if i == dir else d-2 for i, d in enumerate(rho.shape))\n",
    "        )\n",
    "        # rho flux\n",
    "        F_conv[0, ...] = center_to_face(dir, rhou[(dir, *interior)])\n",
    "        # Momentum flux\n",
    "        u = rhou[dir, ...] / rho\n",
    "        p = (constants[\"gamma\"] - 1.0) * (\n",
    "            rhoE - 0.5 * num.sum(rhou * rhou, axis=0) / rho\n",
    "        ) + rho * constants[\"T_0\"] * constants[\"gamma\"] * constants[\"r_gas\"]\n",
    "        p_s = center_to_face(dir, p[interior])\n",
    "        u_s = center_to_face(dir, u[interior])\n",
    "        F_conv[1:4, ...] = center_to_face(dir, rhou[(..., *interior)]) * u_s\n",
    "        F_conv[dir+1, ...] += p_s\n",
    "        # Energy flux\n",
    "        F_conv[4, ...] = (center_to_face(dir, rhoE[interior]) + p_s) * u_s\n",
    "        dwdt = (F_conv[(..., *plus(dir))] - F_conv[(..., *minus(dir))]) * inv_dx\n",
    "        return dwdt\n"
   ]
  },
  {
   "cell_type": "markdown",
   "metadata": {},
   "source": [
    "### Diffusion fluxes\n"
   ]
  },
  {
   "cell_type": "code",
   "execution_count": 23,
   "metadata": {},
   "outputs": [],
   "source": [
    "def compute_stress_tensor(rho, rhou, dir):\n",
    "    # Create some slices for indices i-1 and i+1\n",
    "    interior = get_interior(exclude=dir)\n",
    "    inv_dx = 1.0 / (constants[\"length\"] / constants[\"grid\"][dir])\n",
    "    if dir == 0:\n",
    "        transverse = (1, 2)\n",
    "    elif dir == 1:\n",
    "        transverse = (2, 0)\n",
    "    elif dir == 2:\n",
    "        transverse = (0, 1)\n",
    "    u = rhou / rho\n",
    "    # Start with [2*du/dx_s, dv/dx_s, dz/dx_s]\n",
    "    tau = (\n",
    "        u[(..., *interior)][(..., plus(dir))] -\n",
    "        u[(..., *interior)][(..., minus(dir))]\n",
    "    ) * inv_dx\n",
    "    tau[dir, ...] *= 2\n",
    "    # Add transverse derivatives: [-dv/dy_s, du/dy_s, 0]\n",
    "    for dirT in transverse:\n",
    "        interior_dirT = get_interior(exclude=(dir, dirT))\n",
    "        inv_dy = 1.0 / (constants[\"length\"] / constants[\"grid\"][dirT])\n",
    "        m2 = minus(dirT, delta=2)\n",
    "        p2 = plus(dirT, delta=2)\n",
    "        dvdy = 0.5 * (u[(dirT, *p2)] - u[(dirT, *m2)]) * inv_dy\n",
    "        dudy = 0.5 * (u[(dirT, *p2)] - u[(dirT, *m2)]) * inv_dy\n",
    "        interior_dirT = get_interior((dir, dirT))\n",
    "        dvdy_s = center_to_face(dir, dvdy[interior_dirT])\n",
    "        dudy_s = center_to_face(dir, dudy[interior_dirT])\n",
    "        tau[dir, ...] -= dvdy_s\n",
    "        tau[dirT, ...] += dudy_s\n",
    "    tau[dir, ...] *= constants[\"mu\"] * 2./3\n",
    "    return tau\n",
    "\n",
    "def diffusion(rho, rhou, rhoE, dwdt):\n",
    "    for dir in range(3):\n",
    "        interior = get_interior(exclude=dir)\n",
    "        inv_dx = 1.0 / (constants[\"length\"] / constants[\"grid\"][dir])\n",
    "        F_diff = num.zeros(\n",
    "            (5,) + tuple(d-1 if i == dir else d-2 for i, d in enumerate(rho.shape))\n",
    "        )\n",
    "        # rho flux: zero\n",
    "        # Momentum flux\n",
    "        tau = compute_stress_tensor(rho, rhou, dir)\n",
    "        F_diff[1:4, ...] = tau\n",
    "        # Energy flux\n",
    "        p = (constants[\"gamma\"] - 1.0) * (\n",
    "            rhoE - 0.5 * num.sum(rhou * rhou, axis=0) / rho\n",
    "        ) + rho * constants[\"T_0\"] * constants[\"gamma\"] * constants[\"r_gas\"]\n",
    "        T = p / (rho * constants[\"r_gas\"])\n",
    "        dTdx = (T[interior][plus(dir)] - T[interior][minus(dir)]) * inv_dx\n",
    "        u = rhou / rho\n",
    "        u_s = center_to_face(u[interior])\n",
    "        F_diff[4, ...] = constants[\"lambda\"] * dTdx + num.einsum(\n",
    "            \"i...,i...->...\", tau, u_s)\n",
    "        dwdt = (F_diff[(..., *plus(dir))] - F_diff[(..., *minus(dir))]) * inv_dx\n",
    "        return dwdt"
   ]
  },
  {
   "cell_type": "markdown",
   "metadata": {},
   "source": [
    "### Initial conditions and forcing"
   ]
  },
  {
   "cell_type": "code",
   "execution_count": 20,
   "metadata": {},
   "outputs": [],
   "source": [
    "def initialization(rho, rhou, rhoE, x, y, z):\n",
    "    u = num.zeros((3,) + rho.shape)\n",
    "    u[:] += (num.sin(2 * pi * x) * num.sin(2 * pi * y ) * num.sin(2 * pi * z ))\n",
    "    u[0, ...] += 0.5 * (1 - y) * y + 0.5 * (1 - z) * z\n",
    "    u[1, ...] += 0.5 * (1 - x) * x + 0.5 * (1 - z) * z\n",
    "    u[2, ...] += 0.5 * (1 - x) * x + 0.5 * (1 - y) * y\n",
    "    rhou[:] = rho * u\n",
    "    rhoE[:] = 0.5 * rho * num.sum(u, axis=0) - \\\n",
    "        (rho * constants[\"T_0\"] * constants[\"gamma\"] * constants[\"r_gas\"] -\n",
    "         - constants[\"p_0\"]/(constants[\"gamma\"] - 1))\n",
    "\n",
    "def forcing(rhou):\n",
    "    interior = get_interior(exclude=None)\n",
    "    drhoudt = constants[\"forcing_amplitude\"] * rhou[(..., *interior)]\n",
    "    return drhoudt    "
   ]
  },
  {
   "cell_type": "markdown",
   "metadata": {},
   "source": [
    "### Boundary conditions"
   ]
  },
  {
   "cell_type": "code",
   "execution_count": 7,
   "metadata": {},
   "outputs": [],
   "source": [
    "def boundary_conditions(rho, rhou, rhoE):\n",
    "    # Z direction (left side)\n",
    "    rho[:, :, 0] = rho[:, :, -2]\n",
    "    rhou[:, :, :, 0] = rhou[:, :, :, -2]\n",
    "    rhoE[:, :, 0] = rhoE[:, :, -2]\n",
    "    # Z direction (right side)\n",
    "    rho[:, :, -1] = rho[:, :, 1]\n",
    "    rhou[:, :, :, -1] = rhou[:, :, :, 1]\n",
    "    rhoE[:, :, -1] = rhoE[:, :, 1]\n",
    "    # Y direction (left)\n",
    "    rho[:, 0, :] = rho[:, -2, :]\n",
    "    rhou[:, :, 0, :] = rhou[:, :, -2, :]\n",
    "    rhoE[:, 0, :] = rhoE[:, -2, :]\n",
    "    # Y direction (right)\n",
    "    rho[:, -1, :] = rho[:, 1, :]\n",
    "    rhou[:, :, -1, :] = rhou[:, 1, :]\n",
    "    rhoE[:, -1, :] = rhoE[:, 1, :]\n",
    "    # X direction (left)\n",
    "    rho[0, :, :] = rho[-2, :, :]\n",
    "    rhou[:, 0, :, :] = rhou[:, -2, :, :]\n",
    "    rhoE[0, :, :] = rhoE[-2, :, :]\n",
    "    # X direction (right)\n",
    "    rho[-1, :, :] = rho[1, :, :]\n",
    "    rhou[:, -1, :, :] = rhou[:, 1, :, :]\n",
    "    rhoE[-1, :, :] = rhoE[1, :, :]"
   ]
  },
  {
   "cell_type": "markdown",
   "metadata": {},
   "source": [
    "### Wrap it up"
   ]
  },
  {
   "cell_type": "code",
   "execution_count": 15,
   "metadata": {},
   "outputs": [],
   "source": [
    "def run_simulation(niter):\n",
    "\n",
    "    # Create variables\n",
    "    dx = constants[\"length\"] / constants[\"grid\"][0]\n",
    "    rho = num.full(constants[\"grid_ghost\"], constants[\"rho_0\"])\n",
    "    rhou = num.zeros((3,) + constants[\"grid_ghost\"])\n",
    "    rhoE = num.zeros(constants[\"grid_ghost\"])\n",
    "    dwdt = num.zeros((5,) + constants[\"grid\"])\n",
    "    x = num.linspace(\n",
    "            start=-dx,\n",
    "            stop=constants[\"length\"] + dx,\n",
    "            num=constants[\"grid\"][0] + 2\n",
    "    )[:, None, None]\n",
    "    y = num.linspace(\n",
    "            start=-dx,\n",
    "            stop=constants[\"length\"] + dx,\n",
    "            num=constants[\"grid\"][1] + 2\n",
    "    )[None, :, None]\n",
    "    z = num.linspace(\n",
    "            start=-dx,\n",
    "            stop=constants[\"length\"] + dx,\n",
    "            num=constants[\"grid\"][2] + 2\n",
    "    )[None, None, :]\n",
    "    \n",
    "    # Initial solution\n",
    "    initialization(rho, rhou, rhoE, x, y, z)\n",
    "    \n",
    "    interior = get_interior(exclude=None)\n",
    "    \n",
    "    # Time loop\n",
    "    for i in range(niter):\n",
    "        dwdt[:] = 0.\n",
    "        # Set boundary values in ghost cells\n",
    "        boundary_conditions(rho, rhou, rhoE)\n",
    "        # Compute fluxes and forcing\n",
    "        dwdt[:] += convection(rho, rhou, rhoE)\n",
    "        dwdt[1:4, ...] += forcing(rhou)\n",
    "        dwdt[:] += diffusion(rho, rhou, rhoE, dwdt)\n",
    "        # Update variables\n",
    "        rho[interior] += constants[\"dt\"] * dwdt[0, ...]\n",
    "        rhou[(..., *interior)] += constants[\"dt\"] * dwdt[1:4, ...]\n",
    "        rhoE[interior] += constants[\"dt\"] * dwdt[4, ...]\n",
    "    return rho, rhou, rhoE\n",
    "    "
   ]
  },
  {
   "cell_type": "code",
   "execution_count": 25,
   "metadata": {},
   "outputs": [],
   "source": [
    "rho, rhu, rhoE = run_simulation(1000)"
   ]
  },
  {
   "cell_type": "markdown",
   "metadata": {},
   "source": [
    "## Performance evaluation"
   ]
  },
  {
   "cell_type": "markdown",
   "metadata": {},
   "source": [
    "## A better implementation"
   ]
  },
  {
   "cell_type": "markdown",
   "metadata": {},
   "source": [
    "## Add some Machine Learning"
   ]
  },
  {
   "cell_type": "markdown",
   "metadata": {},
   "source": [
    "## Use heterogeneous resources"
   ]
  }
 ],
 "metadata": {
  "kernelspec": {
   "display_name": "legate",
   "language": "python",
   "name": "python3"
  },
  "language_info": {
   "codemirror_mode": {
    "name": "ipython",
    "version": 3
   },
   "file_extension": ".py",
   "mimetype": "text/x-python",
   "name": "python",
   "nbconvert_exporter": "python",
   "pygments_lexer": "ipython3",
   "version": "3.10.13"
  }
 },
 "nbformat": 4,
 "nbformat_minor": 2
}
